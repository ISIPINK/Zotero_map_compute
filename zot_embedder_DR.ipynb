{
 "cells": [
  {
   "cell_type": "markdown",
   "metadata": {},
   "source": [
    "this is run in a google colab notebook"
   ]
  },
  {
   "cell_type": "code",
   "execution_count": 4,
   "metadata": {},
   "outputs": [
    {
     "name": "stderr",
     "output_type": "stream",
     "text": [
      "d:\\program_files\\miniconda\\envs\\zoteromap\\Lib\\site-packages\\huggingface_hub\\file_download.py:1150: FutureWarning: `resume_download` is deprecated and will be removed in version 1.0.0. Downloads always resume when possible. If you want to force a new download, use `force_download=True`.\n",
      "  warnings.warn(\n",
      "Fetching 4 files: 100%|██████████| 4/4 [00:00<?, ?it/s]\n",
      "d:\\program_files\\miniconda\\envs\\zoteromap\\Lib\\site-packages\\adapters\\loading.py:165: FutureWarning: You are using `torch.load` with `weights_only=False` (the current default value), which uses the default pickle module implicitly. It is possible to construct malicious pickle data which will execute arbitrary code during unpickling (See https://github.com/pytorch/pytorch/blob/main/SECURITY.md#untrusted-models for more details). In a future release, the default value for `weights_only` will be flipped to `True`. This limits the functions that could be executed during unpickling. Arbitrary objects will no longer be allowed to be loaded via this mode unless they are explicitly allowlisted by the user via `torch.serialization.add_safe_globals`. We recommend you start setting `weights_only=True` for any use case where you don't have full control of the loaded file. Please open an issue on GitHub for any issues related to this experimental feature.\n",
      "  state_dict = torch.load(weights_file, map_location=\"cpu\")\n"
     ]
    },
    {
     "data": {
      "text/plain": [
       "'proximity'"
      ]
     },
     "execution_count": 4,
     "metadata": {},
     "output_type": "execute_result"
    }
   ],
   "source": [
    "import pandas as pd\n",
    "import matplotlib.pyplot as plt\n",
    "import numpy as np\n",
    "from transformers import AutoTokenizer\n",
    "from adapters import AutoAdapterModel\n",
    "import torch\n",
    "\n",
    "zot_df = pd.read_csv('zot_clean.csv')\n",
    "\n",
    "# Convert the date columns to datetime objects\n",
    "date_columns = [\"Date\", \"Date Added\", \"Date Modified\"]\n",
    "for col in date_columns:\n",
    "    zot_df[col] = pd.to_datetime(zot_df[col], errors='coerce')\n",
    "\n",
    "zot_df[\"Publication Year\"] = zot_df[\"Publication Year\"].astype(\"Int64\")\n",
    "zot_df[\"Hearts\"] = zot_df[\"Hearts\"].astype(\"Int64\")\n",
    "\n",
    "zot_df[\"Manual Tags\"] = zot_df[\"Manual Tags\"].fillna(\"\").str.split(\";\").apply(lambda tags: [tag.strip() for tag in tags])\n",
    "zot_df[\"Abstract Note\"] = zot_df[\"Abstract Note\"].fillna(\"\")\n",
    "\n",
    "#dropping rows without title or abstract\n",
    "zot_df = zot_df.dropna(subset=['Title'])\n",
    "\n",
    "\n",
    "# embedding model\n",
    "tokenizer = AutoTokenizer.from_pretrained('allenai/specter2_base')\n",
    "model = AutoAdapterModel.from_pretrained('allenai/specter2_base')\n",
    "\n",
    "#load the adapter(s) as per the required task, provide an identifier for the adapter in load_as argument and activate it\n",
    "model.load_adapter(\"allenai/specter2\", source=\"hf\", load_as=\"proximity\", set_active=True)"
   ]
  },
  {
   "cell_type": "code",
   "execution_count": 62,
   "metadata": {},
   "outputs": [
    {
     "data": {
      "text/plain": [
       "Hearts\n",
       "0    491\n",
       "1    110\n",
       "2     48\n",
       "3     43\n",
       "4     17\n",
       "5     10\n",
       "Name: count, dtype: int64"
      ]
     },
     "execution_count": 62,
     "metadata": {},
     "output_type": "execute_result"
    }
   ],
   "source": [
    "zot_df[\"Hearts\"].fillna(0).astype(str).value_counts()\n"
   ]
  },
  {
   "cell_type": "code",
   "execution_count": 16,
   "metadata": {},
   "outputs": [
    {
     "name": "stdout",
     "output_type": "stream",
     "text": [
      "<class 'pandas.core.frame.DataFrame'>\n",
      "RangeIndex: 719 entries, 0 to 718\n",
      "Data columns (total 18 columns):\n",
      " #   Column             Non-Null Count  Dtype         \n",
      "---  ------             --------------  -----         \n",
      " 0   Item Type          719 non-null    object        \n",
      " 1   Publication Year   646 non-null    Int64         \n",
      " 2   Author             654 non-null    object        \n",
      " 3   Title              719 non-null    object        \n",
      " 4   Publication Title  279 non-null    object        \n",
      " 5   DOI                215 non-null    object        \n",
      " 6   Url                651 non-null    object        \n",
      " 7   Abstract Note      670 non-null    object        \n",
      " 8   Date               53 non-null     datetime64[ns]\n",
      " 9   Date Added         719 non-null    datetime64[ns]\n",
      " 10  Date Modified      719 non-null    datetime64[ns]\n",
      " 11  Volume             205 non-null    float64       \n",
      " 12  Publisher          325 non-null    object        \n",
      " 13  Language           584 non-null    object        \n",
      " 14  Library Catalog    671 non-null    object        \n",
      " 15  Notes              200 non-null    object        \n",
      " 16  Manual Tags        719 non-null    object        \n",
      " 17  Hearts             228 non-null    Int64         \n",
      "dtypes: Int64(2), datetime64[ns](3), float64(1), object(12)\n",
      "memory usage: 102.6+ KB\n"
     ]
    }
   ],
   "source": [
    "zot_df.info()"
   ]
  },
  {
   "cell_type": "code",
   "execution_count": 14,
   "metadata": {},
   "outputs": [
    {
     "data": {
      "text/plain": [
       "Index(['Item Type', 'Publication Year', 'Author', 'Title', 'Publication Title',\n",
       "       'DOI', 'Url', 'Abstract Note', 'Date', 'Date Added', 'Date Modified',\n",
       "       'Volume', 'Publisher', 'Language', 'Library Catalog', 'Notes',\n",
       "       'Manual Tags', 'Hearts'],\n",
       "      dtype='object')"
      ]
     },
     "execution_count": 14,
     "metadata": {},
     "output_type": "execute_result"
    }
   ],
   "source": [
    "zot_df.columns"
   ]
  },
  {
   "cell_type": "code",
   "execution_count": 10,
   "metadata": {},
   "outputs": [
    {
     "name": "stderr",
     "output_type": "stream",
     "text": [
      "100%|██████████| 72/72 [54:43<00:00, 45.60s/it]\n"
     ]
    }
   ],
   "source": [
    "#1 hour for 720 items\n",
    "import pandas as pd\n",
    "from transformers import AutoTokenizer, AutoModel\n",
    "import torch\n",
    "from tqdm import tqdm  # Import tqdm for progress bar\n",
    "\n",
    "# Assuming zot_df is your DataFrame\n",
    "# Initialize tokenizer and model\n",
    "tokenizer = AutoTokenizer.from_pretrained('allenai/specter2_base')\n",
    "model = AutoModel.from_pretrained('allenai/specter2_base')\n",
    "\n",
    "# Function to process a single batch\n",
    "def process_batch(batch):\n",
    "\t# Concatenate title and abstract with the tokenizer's separator token\n",
    "\ttext_batch = batch[\"Title\"] + tokenizer.sep_token + batch[\"Abstract Note\"]\n",
    "\ttext_batch = list(text_batch)\n",
    "\t\n",
    "\t# Tokenize the text batch\n",
    "\tinputs = tokenizer(text_batch, padding=True, truncation=True,\n",
    "\t\t\t\t\t   return_tensors=\"pt\", return_token_type_ids=False, max_length=512)\n",
    "\t\n",
    "\t# Perform inference without gradient calculation\n",
    "\twith torch.no_grad():\n",
    "\t\toutput = model(**inputs)\n",
    "\t\n",
    "\t# Extract embeddings from the output\n",
    "\tembeddings = output.last_hidden_state[:, 0, :]\n",
    "\treturn embeddings\n",
    "\n",
    "# Process the DataFrame in chunks\n",
    "batch_size = 10  # Set batch size (adjust based on memory availability)\n",
    "amount_batches = 8\n",
    "amount_batches = len(zot_df) // batch_size + 1\n",
    "embeddings_list = []\n",
    "\n",
    "# Iterate over the DataFrame in chunks with progress bar\n",
    "for start in tqdm(range(0, batch_size*amount_batches, batch_size), total=amount_batches):\n",
    "\tend = min(start + batch_size, len(zot_df))\n",
    "\tbatch = zot_df.iloc[start:end]\n",
    "\tembeddings = process_batch(batch)\n",
    "\tembeddings_list.append(embeddings)\n",
    "\n",
    "# Concatenate all embeddings\n",
    "all_embeddings = torch.cat(embeddings_list, dim=0)\n",
    "\n",
    "all_embeddings = torch.cat(embeddings_list, dim=0)\n",
    "embeddings_df = pd.DataFrame(all_embeddings.numpy())\n",
    "embeddings_df.to_csv('zot_embeddings.csv', index=False)"
   ]
  },
  {
   "cell_type": "code",
   "execution_count": 11,
   "metadata": {},
   "outputs": [
    {
     "name": "stdout",
     "output_type": "stream",
     "text": [
      "torch.Size([719, 768])\n"
     ]
    }
   ],
   "source": [
    "import pacmap\n"
   ]
  },
  {
   "cell_type": "code",
   "execution_count": 16,
   "metadata": {},
   "outputs": [
    {
     "name": "stderr",
     "output_type": "stream",
     "text": [
      "d:\\program_files\\miniconda\\envs\\zoteromap\\Lib\\site-packages\\pacmap\\pacmap.py:822: UserWarning: Warning: random state is set to 3\n",
      "  warnings.warn(f'Warning: random state is set to {_RANDOM_STATE}')\n"
     ]
    }
   ],
   "source": [
    "pac5 = pacmap.PaCMAP(\n",
    "    n_components=2,\n",
    "    n_neighbors=5,\n",
    "    MN_ratio=0.5,\n",
    "    FP_ratio=2.0,\n",
    "    distance=\"angular\",\n",
    "    random_state=3)\n",
    "\n",
    "pac7 = pacmap.PaCMAP(\n",
    "    n_components=2,\n",
    "    n_neighbors=7,\n",
    "    MN_ratio=0.5,\n",
    "    FP_ratio=2.0,\n",
    "    distance=\"angular\",\n",
    "    random_state=3)"
   ]
  },
  {
   "cell_type": "code",
   "execution_count": 17,
   "metadata": {},
   "outputs": [],
   "source": [
    "# 10 sec for 720\n",
    "zot_pac5 = pac5.fit_transform(all_embeddings.numpy())\n",
    "zot_pac7 = pac7.fit_transform(all_embeddings.numpy())"
   ]
  },
  {
   "cell_type": "code",
   "execution_count": 72,
   "metadata": {},
   "outputs": [],
   "source": [
    "import thisnotthat as tnt\n",
    "import panel as pn\n",
    "import networkx"
   ]
  },
  {
   "cell_type": "code",
   "execution_count": 88,
   "metadata": {},
   "outputs": [
    {
     "name": "stdout",
     "output_type": "stream",
     "text": [
      "Index(['ItemType', 'Publication Year', 'Author', 'Title', 'Publication Title',\n",
      "       'DOI', 'Url', 'AbstractNote', 'Date', 'AccessDate', 'Date Modified',\n",
      "       'Volume', 'Publisher', 'Language', 'Library Catalog', 'Notes',\n",
      "       'ManualTags', 'Hearts'],\n",
      "      dtype='object')\n"
     ]
    }
   ],
   "source": [
    "print(zot_df.columns)"
   ]
  },
  {
   "cell_type": "code",
   "execution_count": 87,
   "metadata": {},
   "outputs": [],
   "source": [
    "df = zot_df\n",
    "word_map = zot_pac7\n",
    "df[\"ManualTags\"] = df[\"ManualTags\"].apply(lambda x: \";\".join(x) )"
   ]
  },
  {
   "cell_type": "code",
   "execution_count": null,
   "metadata": {},
   "outputs": [],
   "source": []
  },
  {
   "cell_type": "code",
   "execution_count": 73,
   "metadata": {},
   "outputs": [
    {
     "name": "stderr",
     "output_type": "stream",
     "text": [
      "BokehDeprecationWarning: 'square() method' was deprecated in Bokeh 3.4.0 and will be removed, use \"scatter(marker='square', ...) instead\" instead.\n",
      "BokehDeprecationWarning: 'square() method' was deprecated in Bokeh 3.4.0 and will be removed, use \"scatter(marker='square', ...) instead\" instead.\n"
     ]
    }
   ],
   "source": [
    "basic_plot1 = tnt.BokehPlotPane(\n",
    "    zot_pac7,\n",
    "    hover_text=zot_df[\"Title\"] + \", like:\" + zot_df[\"Hearts\"].fillna(0).astype(str),\n",
    "    marker_size= zot_df[\"Hearts\"].fillna(1)/30,\n",
    "    show_legend=True,\n",
    "    legend_location=\"top_right\",\n",
    "    sizing_mode='stretch_both',\n",
    "    min_point_size=0.001,\n",
    "    max_point_size=0.05,\n",
    "    )\n",
    "\n",
    "basic_plot2 = tnt.BokehPlotPane(\n",
    "    zot_pac5,\n",
    "    hover_text=zot_df[\"Title\"] + \", like:\"+ zot_df[\"Hearts\"].fillna(0).astype(str),\n",
    "    marker_size= zot_df[\"Hearts\"].fillna(1)/30,\n",
    "    show_legend=True,\n",
    "    legend_location=\"top_right\",\n",
    "    sizing_mode='stretch_both',\n",
    "    min_point_size=0.001,\n",
    "    max_point_size=0.05,\n",
    "    )\n",
    "\n",
    "\n",
    "data_view = tnt.SimpleDataPane(\n",
    "    zot_df,\n",
    "    sizing_mode=\"stretch_both\", max_rows=400, max_cols=50)\n",
    "\n",
    "basic_plot2.link(\n",
    "    basic_plot1,\n",
    "    selected=\"selected\",\n",
    "    bidirectional=True\n",
    ")\n",
    "\n",
    "data_view.link(\n",
    "    basic_plot1,\n",
    "    selected=\"selected\",\n",
    "    bidirectional=True\n",
    ")\n",
    "\n",
    "\n",
    "\n",
    "column2 = pn.Column(basic_plot1, name=\"pac7\")\n",
    "column3 = pn.Column(basic_plot2, name=\"pac5\")\n",
    "column4 = pn.Column(data_view, name=\"data\")\n",
    "\n",
    "search = tnt.SearchWidget(zot_df)\n",
    "search.link_to_plot(basic_plot1)\n",
    "\n",
    "app = pn.Tabs(\n",
    "    column2,\n",
    "    column3,\n",
    "    column4,\n",
    "    search)\n",
    "\n",
    "simplesearch = tnt.SimpleSearchWidget(basic_plot1, raw_dataframe=df)\n",
    "\n"
   ]
  },
  {
   "cell_type": "code",
   "execution_count": 89,
   "metadata": {},
   "outputs": [
    {
     "name": "stderr",
     "output_type": "stream",
     "text": [
      "d:\\program_files\\miniconda\\envs\\zoteromap\\Lib\\site-packages\\umap\\umap_.py:1945: UserWarning: n_jobs value 1 overridden to 1 by setting random_state. Use no seed for parallelism.\n",
      "  warn(f\"n_jobs value {self.n_jobs} overridden to 1 by setting random_state. Use no seed for parallelism.\")\n",
      "d:\\program_files\\miniconda\\envs\\zoteromap\\Lib\\site-packages\\umap\\umap_.py:2437: UserWarning: n_neighbors is larger than the dataset size; truncating to X.shape[0] - 1\n",
      "  warn(\n"
     ]
    },
    {
     "ename": "AttributeError",
     "evalue": "'Series' object has no attribute 'select_dtypes'",
     "output_type": "error",
     "traceback": [
      "\u001b[1;31m---------------------------------------------------------------------------\u001b[0m",
      "\u001b[1;31mAttributeError\u001b[0m                            Traceback (most recent call last)",
      "\u001b[1;32m~\\AppData\\Local\\Temp\\ipykernel_20900\\3643714211.py\u001b[0m in \u001b[0;36m?\u001b[1;34m()\u001b[0m\n\u001b[1;32m----> 1\u001b[1;33m label_layers = tnt.MetadataLabelLayers(\n\u001b[0m\u001b[0;32m      2\u001b[0m     \u001b[0mnp\u001b[0m\u001b[1;33m.\u001b[0m\u001b[0marray\u001b[0m\u001b[1;33m(\u001b[0m\u001b[0membeddings\u001b[0m\u001b[1;33m)\u001b[0m\u001b[1;33m,\u001b[0m\u001b[1;33m\u001b[0m\u001b[1;33m\u001b[0m\u001b[0m\n\u001b[0;32m      3\u001b[0m     \u001b[0mnp\u001b[0m\u001b[1;33m.\u001b[0m\u001b[0marray\u001b[0m\u001b[1;33m(\u001b[0m\u001b[0mpac5\u001b[0m\u001b[1;33m)\u001b[0m\u001b[1;33m,\u001b[0m\u001b[1;33m\u001b[0m\u001b[1;33m\u001b[0m\u001b[0m\n\u001b[0;32m      4\u001b[0m     \u001b[0mzot_df\u001b[0m\u001b[1;33m[\u001b[0m\u001b[1;34m\"ManualTags\"\u001b[0m\u001b[1;33m]\u001b[0m\u001b[1;33m,\u001b[0m\u001b[1;33m\u001b[0m\u001b[1;33m\u001b[0m\u001b[0m\n",
      "\u001b[1;32md:\\program_files\\miniconda\\envs\\zoteromap\\Lib\\site-packages\\thisnotthat\\map_cluster_labelling.py\u001b[0m in \u001b[0;36m?\u001b[1;34m(self, source_vectors, map_representation, metadata_dataframe, vector_metric, cluster_map_representation, umap_n_components, umap_n_neighbors, hdbscan_min_samples, hdbscan_min_cluster_size, min_clusters_in_layer, contamination, contamination_multiplier, max_contamination, cluster_distance_threshold, adjust_label_locations, label_adjust_spring_constant, label_adjust_spring_constant_multiplier, label_adjust_edge_weight, items_per_label, label_formatter, random_state)\u001b[0m\n\u001b[0;32m   1192\u001b[0m                 \u001b[0mspring_constant_multiplier\u001b[0m\u001b[1;33m=\u001b[0m\u001b[0mlabel_adjust_spring_constant_multiplier\u001b[0m\u001b[1;33m,\u001b[0m\u001b[1;33m\u001b[0m\u001b[1;33m\u001b[0m\u001b[0m\n\u001b[0;32m   1193\u001b[0m                 \u001b[0medge_weight\u001b[0m\u001b[1;33m=\u001b[0m\u001b[0mlabel_adjust_edge_weight\u001b[0m\u001b[1;33m,\u001b[0m\u001b[1;33m\u001b[0m\u001b[1;33m\u001b[0m\u001b[0m\n\u001b[0;32m   1194\u001b[0m             \u001b[1;33m)\u001b[0m\u001b[1;33m\u001b[0m\u001b[1;33m\u001b[0m\u001b[0m\n\u001b[0;32m   1195\u001b[0m \u001b[1;33m\u001b[0m\u001b[0m\n\u001b[1;32m-> 1196\u001b[1;33m         self.labels = text_labels_from_source_metadata(\n\u001b[0m\u001b[0;32m   1197\u001b[0m             \u001b[0mself\u001b[0m\u001b[1;33m.\u001b[0m\u001b[0mpointset_layers\u001b[0m\u001b[1;33m,\u001b[0m\u001b[1;33m\u001b[0m\u001b[1;33m\u001b[0m\u001b[0m\n\u001b[0;32m   1198\u001b[0m             \u001b[0mmetadata_dataframe\u001b[0m\u001b[1;33m,\u001b[0m\u001b[1;33m\u001b[0m\u001b[1;33m\u001b[0m\u001b[0m\n\u001b[0;32m   1199\u001b[0m             \u001b[0mitems_per_label\u001b[0m\u001b[1;33m=\u001b[0m\u001b[0mitems_per_label\u001b[0m\u001b[1;33m,\u001b[0m\u001b[1;33m\u001b[0m\u001b[1;33m\u001b[0m\u001b[0m\n",
      "\u001b[1;32md:\\program_files\\miniconda\\envs\\zoteromap\\Lib\\site-packages\\thisnotthat\\map_cluster_labelling.py\u001b[0m in \u001b[0;36m?\u001b[1;34m(pointset_layers, source_metadataframe, items_per_label)\u001b[0m\n\u001b[0;32m    642\u001b[0m     \u001b[1;33m-\u001b[0m\u001b[1;33m-\u001b[0m\u001b[1;33m-\u001b[0m\u001b[1;33m-\u001b[0m\u001b[1;33m-\u001b[0m\u001b[1;33m-\u001b[0m\u001b[1;33m-\u001b[0m\u001b[1;33m\u001b[0m\u001b[1;33m\u001b[0m\u001b[0m\n\u001b[0;32m    643\u001b[0m     \u001b[0mlabels\u001b[0m\u001b[1;33m:\u001b[0m \u001b[0mList\u001b[0m \u001b[0mof\u001b[0m \u001b[0mlist\u001b[0m \u001b[0mof\u001b[0m \u001b[0mlists\u001b[0m \u001b[0mof\u001b[0m \u001b[0mlabel\u001b[0m \u001b[0mitems\u001b[0m\u001b[1;33m\u001b[0m\u001b[1;33m\u001b[0m\u001b[0m\n\u001b[0;32m    644\u001b[0m         \u001b[0mThe\u001b[0m \u001b[0mresulting\u001b[0m \u001b[0mlayers\u001b[0m\u001b[1;33m;\u001b[0m \u001b[0meach\u001b[0m \u001b[0mlayer\u001b[0m \u001b[1;32mis\u001b[0m \u001b[0ma\u001b[0m \u001b[0mlist\u001b[0m \u001b[0mof\u001b[0m \u001b[0mcluster\u001b[0m \u001b[0mlabels\u001b[0m\u001b[1;33m;\u001b[0m \u001b[0meach\u001b[0m \u001b[0mcluster\u001b[0m \u001b[0mlabel\u001b[0m \u001b[1;32mis\u001b[0m \u001b[0ma\u001b[0m \u001b[0mlist\u001b[0m \u001b[0mof\u001b[0m \u001b[0mlabel\u001b[0m \u001b[0mitems\u001b[0m\u001b[1;33m\u001b[0m\u001b[1;33m\u001b[0m\u001b[0m\n\u001b[0;32m    645\u001b[0m     \"\"\"\n\u001b[1;32m--> 646\u001b[1;33m     n_numeric_cols = source_metadataframe.select_dtypes(\n\u001b[0m\u001b[0;32m    647\u001b[0m         \u001b[0mexclude\u001b[0m\u001b[1;33m=\u001b[0m\u001b[1;33m[\u001b[0m\u001b[1;34m\"object\"\u001b[0m\u001b[1;33m,\u001b[0m \u001b[1;34m\"category\"\u001b[0m\u001b[1;33m]\u001b[0m\u001b[1;33m\u001b[0m\u001b[1;33m\u001b[0m\u001b[0m\n\u001b[0;32m    648\u001b[0m     \u001b[1;33m)\u001b[0m\u001b[1;33m.\u001b[0m\u001b[0mshape\u001b[0m\u001b[1;33m[\u001b[0m\u001b[1;36m1\u001b[0m\u001b[1;33m]\u001b[0m\u001b[1;33m\u001b[0m\u001b[1;33m\u001b[0m\u001b[0m\n\u001b[0;32m    649\u001b[0m     logistic_regression_dataframe = pd.get_dummies(\n",
      "\u001b[1;32md:\\program_files\\miniconda\\envs\\zoteromap\\Lib\\site-packages\\pandas\\core\\generic.py\u001b[0m in \u001b[0;36m?\u001b[1;34m(self, name)\u001b[0m\n\u001b[0;32m   6295\u001b[0m             \u001b[1;32mand\u001b[0m \u001b[0mname\u001b[0m \u001b[1;32mnot\u001b[0m \u001b[1;32min\u001b[0m \u001b[0mself\u001b[0m\u001b[1;33m.\u001b[0m\u001b[0m_accessors\u001b[0m\u001b[1;33m\u001b[0m\u001b[1;33m\u001b[0m\u001b[0m\n\u001b[0;32m   6296\u001b[0m             \u001b[1;32mand\u001b[0m \u001b[0mself\u001b[0m\u001b[1;33m.\u001b[0m\u001b[0m_info_axis\u001b[0m\u001b[1;33m.\u001b[0m\u001b[0m_can_hold_identifiers_and_holds_name\u001b[0m\u001b[1;33m(\u001b[0m\u001b[0mname\u001b[0m\u001b[1;33m)\u001b[0m\u001b[1;33m\u001b[0m\u001b[1;33m\u001b[0m\u001b[0m\n\u001b[0;32m   6297\u001b[0m         \u001b[1;33m)\u001b[0m\u001b[1;33m:\u001b[0m\u001b[1;33m\u001b[0m\u001b[1;33m\u001b[0m\u001b[0m\n\u001b[0;32m   6298\u001b[0m             \u001b[1;32mreturn\u001b[0m \u001b[0mself\u001b[0m\u001b[1;33m[\u001b[0m\u001b[0mname\u001b[0m\u001b[1;33m]\u001b[0m\u001b[1;33m\u001b[0m\u001b[1;33m\u001b[0m\u001b[0m\n\u001b[1;32m-> 6299\u001b[1;33m         \u001b[1;32mreturn\u001b[0m \u001b[0mobject\u001b[0m\u001b[1;33m.\u001b[0m\u001b[0m__getattribute__\u001b[0m\u001b[1;33m(\u001b[0m\u001b[0mself\u001b[0m\u001b[1;33m,\u001b[0m \u001b[0mname\u001b[0m\u001b[1;33m)\u001b[0m\u001b[1;33m\u001b[0m\u001b[1;33m\u001b[0m\u001b[0m\n\u001b[0m",
      "\u001b[1;31mAttributeError\u001b[0m: 'Series' object has no attribute 'select_dtypes'"
     ]
    }
   ],
   "source": [
    "label_layers = tnt.MetadataLabelLayers(\n",
    "    np.array(embeddings),\n",
    "    np.array(pac5),\n",
    "    zot_df[\"ManualTags\"],\n",
    "    hdbscan_min_cluster_size=5,\n",
    "    hdbscan_min_samples=5,\n",
    "    contamination=1e-6,\n",
    "    min_clusters_in_layer=3,\n",
    "    vector_metric=\"cosine\",\n",
    "    cluster_distance_threshold=0.0,\n",
    "    random_state=0,\n",
    ")"
   ]
  },
  {
   "cell_type": "code",
   "execution_count": 90,
   "metadata": {},
   "outputs": [
    {
     "name": "stderr",
     "output_type": "stream",
     "text": [
      "d:\\program_files\\miniconda\\envs\\zoteromap\\Lib\\site-packages\\umap\\umap_.py:1945: UserWarning: n_jobs value 1 overridden to 1 by setting random_state. Use no seed for parallelism.\n",
      "  warn(f\"n_jobs value {self.n_jobs} overridden to 1 by setting random_state. Use no seed for parallelism.\")\n",
      "d:\\program_files\\miniconda\\envs\\zoteromap\\Lib\\site-packages\\umap\\umap_.py:2437: UserWarning: n_neighbors is larger than the dataset size; truncating to X.shape[0] - 1\n",
      "  warn(\n"
     ]
    },
    {
     "ename": "IndexError",
     "evalue": "too many indices for array: array is 0-dimensional, but 1 were indexed",
     "output_type": "error",
     "traceback": [
      "\u001b[1;31m---------------------------------------------------------------------------\u001b[0m",
      "\u001b[1;31mIndexError\u001b[0m                                Traceback (most recent call last)",
      "Cell \u001b[1;32mIn[90], line 1\u001b[0m\n\u001b[1;32m----> 1\u001b[0m label_layers \u001b[38;5;241m=\u001b[39m \u001b[43mtnt\u001b[49m\u001b[38;5;241;43m.\u001b[39;49m\u001b[43mMetadataLabelLayers\u001b[49m\u001b[43m(\u001b[49m\n\u001b[0;32m      2\u001b[0m \u001b[43m    \u001b[49m\u001b[43mnp\u001b[49m\u001b[38;5;241;43m.\u001b[39;49m\u001b[43marray\u001b[49m\u001b[43m(\u001b[49m\u001b[43membeddings\u001b[49m\u001b[43m)\u001b[49m\u001b[43m,\u001b[49m\n\u001b[0;32m      3\u001b[0m \u001b[43m    \u001b[49m\u001b[43mnp\u001b[49m\u001b[38;5;241;43m.\u001b[39;49m\u001b[43marray\u001b[49m\u001b[43m(\u001b[49m\u001b[43mpac5\u001b[49m\u001b[43m)\u001b[49m\u001b[43m,\u001b[49m\n\u001b[0;32m      4\u001b[0m \u001b[43m    \u001b[49m\u001b[43mdf\u001b[49m\u001b[43m[\u001b[49m\u001b[38;5;124;43m\"\u001b[39;49m\u001b[38;5;124;43mManualTags\u001b[39;49m\u001b[38;5;124;43m\"\u001b[39;49m\u001b[43m]\u001b[49m\u001b[43m,\u001b[49m\n\u001b[0;32m      5\u001b[0m \u001b[43m    \u001b[49m\u001b[43mhdbscan_min_cluster_size\u001b[49m\u001b[38;5;241;43m=\u001b[39;49m\u001b[38;5;241;43m2\u001b[39;49m\u001b[43m,\u001b[49m\n\u001b[0;32m      6\u001b[0m \u001b[43m    \u001b[49m\u001b[43mhdbscan_min_samples\u001b[49m\u001b[38;5;241;43m=\u001b[39;49m\u001b[38;5;241;43m2\u001b[39;49m\u001b[43m,\u001b[49m\n\u001b[0;32m      7\u001b[0m \u001b[43m    \u001b[49m\u001b[43mcontamination\u001b[49m\u001b[38;5;241;43m=\u001b[39;49m\u001b[38;5;241;43m1e-6\u001b[39;49m\u001b[43m,\u001b[49m\n\u001b[0;32m      8\u001b[0m \u001b[43m    \u001b[49m\u001b[43mmin_clusters_in_layer\u001b[49m\u001b[38;5;241;43m=\u001b[39;49m\u001b[38;5;241;43m5\u001b[39;49m\u001b[43m,\u001b[49m\n\u001b[0;32m      9\u001b[0m \u001b[43m    \u001b[49m\u001b[43mvector_metric\u001b[49m\u001b[38;5;241;43m=\u001b[39;49m\u001b[38;5;124;43m\"\u001b[39;49m\u001b[38;5;124;43mcosine\u001b[39;49m\u001b[38;5;124;43m\"\u001b[39;49m\u001b[43m,\u001b[49m\n\u001b[0;32m     10\u001b[0m \u001b[43m    \u001b[49m\u001b[43mcluster_distance_threshold\u001b[49m\u001b[38;5;241;43m=\u001b[39;49m\u001b[38;5;241;43m0.0\u001b[39;49m\u001b[43m,\u001b[49m\n\u001b[0;32m     11\u001b[0m \u001b[43m    \u001b[49m\u001b[43mrandom_state\u001b[49m\u001b[38;5;241;43m=\u001b[39;49m\u001b[38;5;241;43m0\u001b[39;49m\u001b[43m,\u001b[49m\n\u001b[0;32m     12\u001b[0m \u001b[43m    \u001b[49m\u001b[43mitems_per_label\u001b[49m\u001b[38;5;241;43m=\u001b[39;49m\u001b[38;5;241;43m2\u001b[39;49m\n\u001b[0;32m     13\u001b[0m \u001b[43m)\u001b[49m\n\u001b[0;32m     15\u001b[0m basic_plot2\u001b[38;5;241m.\u001b[39madd_cluster_labels(\n\u001b[0;32m     16\u001b[0m     label_layers, text_size_scale\u001b[38;5;241m=\u001b[39m\u001b[38;5;241m100\u001b[39m, text_layer_scale_factor\u001b[38;5;241m=\u001b[39m\u001b[38;5;241m2.0\u001b[39m)\n",
      "File \u001b[1;32md:\\program_files\\miniconda\\envs\\zoteromap\\Lib\\site-packages\\thisnotthat\\map_cluster_labelling.py:1161\u001b[0m, in \u001b[0;36mMetadataLabelLayers.__init__\u001b[1;34m(self, source_vectors, map_representation, metadata_dataframe, vector_metric, cluster_map_representation, umap_n_components, umap_n_neighbors, hdbscan_min_samples, hdbscan_min_cluster_size, min_clusters_in_layer, contamination, contamination_multiplier, max_contamination, cluster_distance_threshold, adjust_label_locations, label_adjust_spring_constant, label_adjust_spring_constant_multiplier, label_adjust_edge_weight, items_per_label, label_formatter, random_state)\u001b[0m\n\u001b[0;32m   1154\u001b[0m     warn(\u001b[38;5;124m\"\u001b[39m\u001b[38;5;124mNetworkX is required for label adjustments; try pip install networkx\u001b[39m\u001b[38;5;124m\"\u001b[39m)\n\u001b[0;32m   1155\u001b[0m     adjust_label_locations \u001b[38;5;241m=\u001b[39m \u001b[38;5;28;01mFalse\u001b[39;00m\n\u001b[0;32m   1157\u001b[0m (\n\u001b[0;32m   1158\u001b[0m     cluster_vectors,\n\u001b[0;32m   1159\u001b[0m     cluster_locations,\n\u001b[0;32m   1160\u001b[0m     hdbscan_tree,\n\u001b[1;32m-> 1161\u001b[0m ) \u001b[38;5;241m=\u001b[39m \u001b[43mbuild_fine_grained_cluster_centers\u001b[49m\u001b[43m(\u001b[49m\n\u001b[0;32m   1162\u001b[0m \u001b[43m    \u001b[49m\u001b[43msource_vectors\u001b[49m\u001b[43m,\u001b[49m\n\u001b[0;32m   1163\u001b[0m \u001b[43m    \u001b[49m\u001b[43mmap_representation\u001b[49m\u001b[43m,\u001b[49m\n\u001b[0;32m   1164\u001b[0m \u001b[43m    \u001b[49m\u001b[43mcluster_map_representation\u001b[49m\u001b[38;5;241;43m=\u001b[39;49m\u001b[43mcluster_map_representation\u001b[49m\u001b[43m,\u001b[49m\n\u001b[0;32m   1165\u001b[0m \u001b[43m    \u001b[49m\u001b[43mumap_metric\u001b[49m\u001b[38;5;241;43m=\u001b[39;49m\u001b[43mvector_metric\u001b[49m\u001b[43m,\u001b[49m\n\u001b[0;32m   1166\u001b[0m \u001b[43m    \u001b[49m\u001b[43mumap_n_components\u001b[49m\u001b[38;5;241;43m=\u001b[39;49m\u001b[43mumap_n_components\u001b[49m\u001b[43m,\u001b[49m\n\u001b[0;32m   1167\u001b[0m \u001b[43m    \u001b[49m\u001b[43mumap_n_neighbors\u001b[49m\u001b[38;5;241;43m=\u001b[39;49m\u001b[43mumap_n_neighbors\u001b[49m\u001b[43m,\u001b[49m\n\u001b[0;32m   1168\u001b[0m \u001b[43m    \u001b[49m\u001b[43mhdbscan_min_samples\u001b[49m\u001b[38;5;241;43m=\u001b[39;49m\u001b[43mhdbscan_min_samples\u001b[49m\u001b[43m,\u001b[49m\n\u001b[0;32m   1169\u001b[0m \u001b[43m    \u001b[49m\u001b[43mhdbscan_min_cluster_size\u001b[49m\u001b[38;5;241;43m=\u001b[39;49m\u001b[43mhdbscan_min_cluster_size\u001b[49m\u001b[43m,\u001b[49m\n\u001b[0;32m   1170\u001b[0m \u001b[43m    \u001b[49m\u001b[43mrandom_state\u001b[49m\u001b[38;5;241;43m=\u001b[39;49m\u001b[43mrandom_state\u001b[49m\u001b[43m,\u001b[49m\n\u001b[0;32m   1171\u001b[0m \u001b[43m\u001b[49m\u001b[43m)\u001b[49m\n\u001b[0;32m   1172\u001b[0m (\n\u001b[0;32m   1173\u001b[0m     vector_layers,\n\u001b[0;32m   1174\u001b[0m     \u001b[38;5;28mself\u001b[39m\u001b[38;5;241m.\u001b[39mlocation_layers,\n\u001b[1;32m   (...)\u001b[0m\n\u001b[0;32m   1186\u001b[0m     hdbscan_tree\u001b[38;5;241m=\u001b[39mhdbscan_tree,\n\u001b[0;32m   1187\u001b[0m )\n\u001b[0;32m   1188\u001b[0m \u001b[38;5;28;01mif\u001b[39;00m adjust_label_locations:\n",
      "File \u001b[1;32md:\\program_files\\miniconda\\envs\\zoteromap\\Lib\\site-packages\\thisnotthat\\map_cluster_labelling.py:137\u001b[0m, in \u001b[0;36mbuild_fine_grained_cluster_centers\u001b[1;34m(source_vectors, map_representation, cluster_map_representation, umap_n_components, umap_metric, umap_n_neighbors, hdbscan_min_samples, hdbscan_min_cluster_size, random_state)\u001b[0m\n\u001b[0;32m    119\u001b[0m clusterer \u001b[38;5;241m=\u001b[39m HDBSCAN(\n\u001b[0;32m    120\u001b[0m     min_samples\u001b[38;5;241m=\u001b[39mhdbscan_min_samples,\n\u001b[0;32m    121\u001b[0m     min_cluster_size\u001b[38;5;241m=\u001b[39mhdbscan_min_cluster_size,\n\u001b[0;32m    122\u001b[0m     cluster_selection_method\u001b[38;5;241m=\u001b[39m\u001b[38;5;124m\"\u001b[39m\u001b[38;5;124mleaf\u001b[39m\u001b[38;5;124m\"\u001b[39m,\n\u001b[0;32m    123\u001b[0m )\u001b[38;5;241m.\u001b[39mfit(clusterable_representation)\n\u001b[0;32m    125\u001b[0m cluster_vectors \u001b[38;5;241m=\u001b[39m [\n\u001b[0;32m    126\u001b[0m     np\u001b[38;5;241m.\u001b[39maverage(\n\u001b[0;32m    127\u001b[0m         source_vectors[clusterer\u001b[38;5;241m.\u001b[39mlabels_ \u001b[38;5;241m==\u001b[39m cluster_id],\n\u001b[1;32m   (...)\u001b[0m\n\u001b[0;32m    132\u001b[0m     \u001b[38;5;28;01mif\u001b[39;00m cluster_id \u001b[38;5;241m!=\u001b[39m \u001b[38;5;241m-\u001b[39m\u001b[38;5;241m1\u001b[39m\n\u001b[0;32m    133\u001b[0m ]\n\u001b[0;32m    135\u001b[0m map_cluster_locations \u001b[38;5;241m=\u001b[39m [\n\u001b[0;32m    136\u001b[0m     np\u001b[38;5;241m.\u001b[39maverage(\n\u001b[1;32m--> 137\u001b[0m         \u001b[43mmap_representation\u001b[49m\u001b[43m[\u001b[49m\u001b[43mclusterer\u001b[49m\u001b[38;5;241;43m.\u001b[39;49m\u001b[43mlabels_\u001b[49m\u001b[43m \u001b[49m\u001b[38;5;241;43m==\u001b[39;49m\u001b[43m \u001b[49m\u001b[43mcluster_id\u001b[49m\u001b[43m]\u001b[49m,\n\u001b[0;32m    138\u001b[0m         weights\u001b[38;5;241m=\u001b[39mclusterer\u001b[38;5;241m.\u001b[39mprobabilities_[clusterer\u001b[38;5;241m.\u001b[39mlabels_ \u001b[38;5;241m==\u001b[39m cluster_id],\n\u001b[0;32m    139\u001b[0m         axis\u001b[38;5;241m=\u001b[39m\u001b[38;5;241m0\u001b[39m,\n\u001b[0;32m    140\u001b[0m     )\n\u001b[0;32m    141\u001b[0m     \u001b[38;5;28;01mfor\u001b[39;00m cluster_id \u001b[38;5;129;01min\u001b[39;00m np\u001b[38;5;241m.\u001b[39munique(clusterer\u001b[38;5;241m.\u001b[39mlabels_)\n\u001b[0;32m    142\u001b[0m     \u001b[38;5;28;01mif\u001b[39;00m cluster_id \u001b[38;5;241m!=\u001b[39m \u001b[38;5;241m-\u001b[39m\u001b[38;5;241m1\u001b[39m\n\u001b[0;32m    143\u001b[0m ]\n\u001b[0;32m    145\u001b[0m \u001b[38;5;28;01mreturn\u001b[39;00m (\n\u001b[0;32m    146\u001b[0m     np\u001b[38;5;241m.\u001b[39marray(cluster_vectors),\n\u001b[0;32m    147\u001b[0m     np\u001b[38;5;241m.\u001b[39marray(map_cluster_locations),\n\u001b[0;32m    148\u001b[0m     clusterer\u001b[38;5;241m.\u001b[39mcondensed_tree_,\n\u001b[0;32m    149\u001b[0m )\n",
      "\u001b[1;31mIndexError\u001b[0m: too many indices for array: array is 0-dimensional, but 1 were indexed"
     ]
    }
   ],
   "source": [
    "\n",
    "label_layers = tnt.MetadataLabelLayers(\n",
    "    np.array(embeddings),\n",
    "    np.array(pac5),\n",
    "    df[\"ManualTags\"],\n",
    "    hdbscan_min_cluster_size=2,\n",
    "    hdbscan_min_samples=2,\n",
    "    contamination=1e-6,\n",
    "    min_clusters_in_layer=5,\n",
    "    vector_metric=\"cosine\",\n",
    "    cluster_distance_threshold=0.0,\n",
    "    random_state=0,\n",
    "    items_per_label=2\n",
    ")\n",
    "\n",
    "basic_plot2.add_cluster_labels(\n",
    "    label_layers, text_size_scale=100, text_layer_scale_factor=2.0)\n",
    "\n"
   ]
  },
  {
   "cell_type": "code",
   "execution_count": 68,
   "metadata": {},
   "outputs": [
    {
     "name": "stdout",
     "output_type": "stream",
     "text": [
      "Launching server at http://localhost:60472\n"
     ]
    },
    {
     "data": {
      "text/plain": [
       "<panel.io.server.Server at 0x1e9520d5b20>"
      ]
     },
     "execution_count": 68,
     "metadata": {},
     "output_type": "execute_result"
    }
   ],
   "source": [
    "app = pn.Column(simplesearch, app)\n",
    "pn.serve(app)"
   ]
  }
 ],
 "metadata": {
  "kernelspec": {
   "display_name": "zoteromap",
   "language": "python",
   "name": "python3"
  },
  "language_info": {
   "codemirror_mode": {
    "name": "ipython",
    "version": 3
   },
   "file_extension": ".py",
   "mimetype": "text/x-python",
   "name": "python",
   "nbconvert_exporter": "python",
   "pygments_lexer": "ipython3",
   "version": "3.12.4"
  }
 },
 "nbformat": 4,
 "nbformat_minor": 2
}
