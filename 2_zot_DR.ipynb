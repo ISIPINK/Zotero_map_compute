{
 "cells": [
  {
   "cell_type": "code",
   "execution_count": 3,
   "metadata": {},
   "outputs": [],
   "source": [
    "import pandas as pd\n",
    "import matplotlib.pyplot as plt\n",
    "import numpy as np\n",
    "\n",
    "zot_df = pd.read_csv('./data/zot_clean.csv')\n",
    "\n",
    "# Convert the date columns to datetime objects\n",
    "date_columns = [\"Date\", \"Date Added\", \"Date Modified\"]\n",
    "for col in date_columns:\n",
    "    zot_df[col] = pd.to_datetime(zot_df[col], errors='coerce',format=\"mixed\")\n",
    "\n",
    "zot_df[\"Publication Year\"] = zot_df[\"Publication Year\"].astype(\"Int64\")\n",
    "zot_df[\"Hearts\"] = zot_df[\"Hearts\"].astype(\"Int64\")\n",
    "\n",
    "zot_df[\"Manual Tags\"] = zot_df[\"Manual Tags\"].fillna(\"\").str.split(\";\").apply(lambda tags: [tag.strip() for tag in tags])\n",
    "zot_df[\"Common Tags\"] = zot_df[\"Common Tags\"].fillna(\"\").str.split(\";\").apply(lambda tags: [tag.strip() for tag in tags])\n",
    "zot_df[\"Common Tags\"] = zot_df[\"Common Tags\"].apply(lambda tags : [tag for tag in tags if tag != \"\"])\n",
    "\n",
    "#loading computed embeddings\n",
    "embeddings_df = pd.read_csv('./data/zot_embeddings.csv') "
   ]
  },
  {
   "cell_type": "code",
   "execution_count": 4,
   "metadata": {},
   "outputs": [
    {
     "name": "stderr",
     "output_type": "stream",
     "text": [
      "Warning: random state is set to 3.\n",
      "Warning: random state is set to 3.\n",
      "d:\\Documents\\GitHub\\Zotero_map_compute\\.venv\\Lib\\site-packages\\sklearn\\utils\\deprecation.py:151: FutureWarning: 'force_all_finite' was renamed to 'ensure_all_finite' in 1.6 and will be removed in 1.8.\n",
      "  warnings.warn(\n",
      "d:\\Documents\\GitHub\\Zotero_map_compute\\.venv\\Lib\\site-packages\\sklearn\\utils\\deprecation.py:151: FutureWarning: 'force_all_finite' was renamed to 'ensure_all_finite' in 1.6 and will be removed in 1.8.\n",
      "  warnings.warn(\n"
     ]
    },
    {
     "name": "stdout",
     "output_type": "stream",
     "text": [
      "Number of clusters:  22\n"
     ]
    },
    {
     "data": {
      "image/png": "[encoded data removed]",
      "text/plain": [
       "<Figure size 640x480 with 2 Axes>"
      ]
     },
     "metadata": {},
     "output_type": "display_data"
    }
   ],
   "source": [
    "import pacmap\n",
    "import hdbscan\n",
    "\n",
    "pac7 = pacmap.PaCMAP(\n",
    "    n_components=2,\n",
    "    n_neighbors=7,\n",
    "    MN_ratio=0.5,\n",
    "    FP_ratio=2.0,\n",
    "    distance=\"angular\",\n",
    "    random_state=3)\n",
    "\n",
    "pacd = pacmap.PaCMAP(\n",
    "    n_components=5,\n",
    "    n_neighbors=7,\n",
    "    MN_ratio=0.5,\n",
    "    FP_ratio=2.0,\n",
    "    distance=\"angular\",\n",
    "    random_state=3)\n",
    "\n",
    "hdb = hdbscan.HDBSCAN(min_cluster_size=5,cluster_selection_epsilon=0.8)\n",
    "\n",
    "# 10 sec for 720\n",
    "zot_pac7 = pac7.fit_transform(np.array(embeddings_df))\n",
    "zot_pacd = pacd.fit_transform(np.array(embeddings_df))\n",
    "clusters = hdb.fit_predict(np.array(zot_pacd))\n",
    "\n",
    "pd.DataFrame(zot_pac7).to_csv('./data/zot_pac7.csv')\n",
    "pd.DataFrame(clusters).to_csv('./data/clusters.csv')\n",
    "\n",
    "hdb.condensed_tree_.plot(select_clusters=True)\n",
    "print(\"Number of clusters: \", len(set(clusters)))"
   ]
  },
  {
   "cell_type": "code",
   "execution_count": 3,
   "metadata": {},
   "outputs": [],
   "source": [
    "import sklearn.feature_extraction\n",
    "\n",
    "cv = sklearn.feature_extraction.text.CountVectorizer(lowercase=True, min_df=10)\n",
    "sparse_metadata = cv.fit_transform(zot_df[\"Manual Tags\"].apply(lambda x: \" \".join(x)).values+ \" \" + zot_df[\"Abstract Note\"].fillna(\"\"))"
   ]
  },
  {
   "cell_type": "code",
   "execution_count": 10,
   "metadata": {},
   "outputs": [
    {
     "name": "stdout",
     "output_type": "stream",
     "text": [
      "(719, 1235)\n"
     ]
    }
   ],
   "source": [
    "print(sparse_metadata.shape)"
   ]
  },
  {
   "cell_type": "code",
   "execution_count": 11,
   "metadata": {},
   "outputs": [
    {
     "name": "stdout",
     "output_type": "stream",
     "text": [
      "<Compressed Sparse Row sparse matrix of dtype 'int64'\n",
      "\twith 48708 stored elements and shape (719, 1235)>\n",
      "  Coords\tValues\n",
      "  (0, 620)\t9\n",
      "  (0, 645)\t4\n",
      "  (0, 1093)\t8\n",
      "  (0, 601)\t1\n",
      "  (0, 530)\t1\n",
      "  (0, 123)\t1\n",
      "  (0, 590)\t4\n",
      "  (0, 1092)\t1\n",
      "  (0, 38)\t1\n",
      "  (0, 156)\t2\n",
      "  (0, 18)\t1\n",
      "  (0, 15)\t1\n",
      "  (0, 1210)\t1\n",
      "  (0, 1125)\t2\n",
      "  (0, 532)\t1\n",
      "  (0, 593)\t1\n",
      "  (0, 1113)\t5\n",
      "  (0, 179)\t1\n",
      "  (0, 261)\t2\n",
      "  (0, 466)\t1\n",
      "  (0, 1201)\t2\n",
      "  (0, 53)\t4\n",
      "  (0, 663)\t2\n",
      "  (0, 550)\t5\n",
      "  (0, 455)\t1\n",
      "  :\t:\n",
      "  (718, 1008)\t2\n",
      "  (718, 443)\t1\n",
      "  (718, 689)\t1\n",
      "  (718, 433)\t1\n",
      "  (718, 75)\t4\n",
      "  (718, 886)\t1\n",
      "  (718, 1184)\t2\n",
      "  (718, 814)\t1\n",
      "  (718, 690)\t1\n",
      "  (718, 439)\t1\n",
      "  (718, 958)\t1\n",
      "  (718, 312)\t1\n",
      "  (718, 240)\t1\n",
      "  (718, 388)\t3\n",
      "  (718, 516)\t1\n",
      "  (718, 1194)\t4\n",
      "  (718, 1051)\t1\n",
      "  (718, 265)\t1\n",
      "  (718, 98)\t2\n",
      "  (718, 779)\t1\n",
      "  (718, 612)\t1\n",
      "  (718, 1205)\t1\n",
      "  (718, 452)\t1\n",
      "  (718, 635)\t1\n",
      "  (718, 639)\t2\n"
     ]
    }
   ],
   "source": [
    "print(sparse_metadata)"
   ]
  }
 ],
 "metadata": {
  "kernelspec": {
   "display_name": ".venv",
   "language": "python",
   "name": "python3"
  },
  "language_info": {
   "codemirror_mode": {
    "name": "ipython",
    "version": 3
   },
   "file_extension": ".py",
   "mimetype": "text/x-python",
   "name": "python",
   "nbconvert_exporter": "python",
   "pygments_lexer": "ipython3",
   "version": "3.13.0"
  }
 },
 "nbformat": 4,
 "nbformat_minor": 2
}
