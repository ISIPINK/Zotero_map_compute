{
 "cells": [
  {
   "cell_type": "code",
   "execution_count": 52,
   "metadata": {},
   "outputs": [],
   "source": [
    "import pandas as pd\n",
    "import matplotlib.pyplot as plt\n",
    "import numpy as np\n",
    "import pacmap\n",
    "import thisnotthat as tnt\n",
    "import panel as pn\n",
    "\n",
    "zot_df = pd.read_csv('zot_clean.csv')\n",
    "\n",
    "# Convert the date columns to datetime objects\n",
    "date_columns = [\"Date\", \"Date Added\", \"Date Modified\"]\n",
    "for col in date_columns:\n",
    "    zot_df[col] = pd.to_datetime(zot_df[col], errors='coerce')\n",
    "\n",
    "zot_df[\"Publication Year\"] = zot_df[\"Publication Year\"].astype(\"Int64\")\n",
    "zot_df[\"Hearts\"] = zot_df[\"Hearts\"].astype(\"Int64\")\n",
    "\n",
    "zot_df[\"Manual Tags\"] = zot_df[\"Manual Tags\"].fillna(\"\").str.split(\";\").apply(lambda tags: [tag.strip() for tag in tags])\n",
    "zot_df[\"Common Tags\"] = zot_df[\"Common Tags\"].fillna(\"\").str.split(\";\").apply(lambda tags: [tag.strip() for tag in tags])\n",
    "zot_df[\"Common Tags\"] = zot_df[\"Common Tags\"].apply(lambda tags : [tag for tag in tags if tag != \"\"])\n",
    "\n",
    "#dropping rows without title \n",
    "zot_df = zot_df.dropna(subset=['Title'])\n",
    "\n",
    "# reordering the columns\n",
    "first_order = [\"Title\", \"Author\", \"Date\", \"Abstract Note\",\"Date Added\"]\n",
    "new_order = first_order + [col for col in zot_df.columns.tolist() if col not in first_order]\n",
    "zot_df = zot_df.reindex(columns=new_order)\n",
    "\n",
    "# this is for lower case search\n",
    "zot_df_lowercase = zot_df.copy()\n",
    "zot_df_lowercase[\"Title Lower\"] = zot_df_lowercase[\"Title\"].str.lower()\n",
    "zot_df_lowercase[\"Author Lower\"] = zot_df_lowercase[\"Author\"].str.lower()\n",
    "zot_df_lowercase[\"Abstract Note Lower\"] = zot_df_lowercase[\"Abstract Note\"].str.lower()\n",
    "\n",
    "#loading computed embeddings\n",
    "embeddings_df = pd.read_csv('zot_embeddings.csv') "
   ]
  },
  {
   "cell_type": "code",
   "execution_count": 42,
   "metadata": {},
   "outputs": [
    {
     "data": {
      "text/plain": [
       "Index(['Item Type', 'Publication Year', 'Author', 'Title', 'Publication Title',\n",
       "       'DOI', 'Url', 'Abstract Note', 'Date', 'Date Added', 'Date Modified',\n",
       "       'Volume', 'Publisher', 'Language', 'Library Catalog', 'Notes',\n",
       "       'Manual Tags', 'Hearts', 'Common Tags'],\n",
       "      dtype='object')"
      ]
     },
     "execution_count": 42,
     "metadata": {},
     "output_type": "execute_result"
    }
   ],
   "source": [
    "zot_df.columns"
   ]
  },
  {
   "cell_type": "code",
   "execution_count": 3,
   "metadata": {},
   "outputs": [
    {
     "name": "stderr",
     "output_type": "stream",
     "text": [
      "d:\\program_files\\miniconda\\envs\\zoteromap\\Lib\\site-packages\\pacmap\\pacmap.py:822: UserWarning: Warning: random state is set to 3\n",
      "  warnings.warn(f'Warning: random state is set to {_RANDOM_STATE}')\n"
     ]
    }
   ],
   "source": [
    "pac5 = pacmap.PaCMAP(\n",
    "    n_components=2,\n",
    "    n_neighbors=5,\n",
    "    MN_ratio=0.5,\n",
    "    FP_ratio=2.0,\n",
    "    distance=\"angular\",\n",
    "    random_state=3)\n",
    "\n",
    "pac7 = pacmap.PaCMAP(\n",
    "    n_components=2,\n",
    "    n_neighbors=7,\n",
    "    MN_ratio=0.5,\n",
    "    FP_ratio=2.0,\n",
    "    distance=\"angular\",\n",
    "    random_state=3)\n",
    "\n",
    "# 10 sec for 720\n",
    "zot_pac5 = pac5.fit_transform(np.array(embeddings_df))\n",
    "zot_pac7 = pac7.fit_transform(np.array(embeddings_df))"
   ]
  },
  {
   "cell_type": "code",
   "execution_count": 69,
   "metadata": {},
   "outputs": [
    {
     "name": "stderr",
     "output_type": "stream",
     "text": [
      "BokehDeprecationWarning: 'square() method' was deprecated in Bokeh 3.4.0 and will be removed, use \"scatter(marker='square', ...) instead\" instead.\n",
      "BokehDeprecationWarning: 'square() method' was deprecated in Bokeh 3.4.0 and will be removed, use \"scatter(marker='square', ...) instead\" instead.\n"
     ]
    }
   ],
   "source": [
    "zot_pacs = [zot_pac5, zot_pac7]\n",
    "plots = []\n",
    "for zot_pac in zot_pacs:\n",
    "    plots.append(\n",
    "    tnt.BokehPlotPane(\n",
    "    zot_pac,\n",
    "    hover_text=zot_df[\"Title\"],\n",
    "    marker_size= (zot_df[\"Hearts\"].fillna(0)+2)/50,\n",
    "    show_legend=True,\n",
    "    legend_location=\"top_right\",\n",
    "    sizing_mode='stretch_both',\n",
    "    min_point_size=0.001,\n",
    "    max_point_size=0.05,\n",
    "    )\n",
    "    )\n",
    "\n",
    "\n",
    "data_view = tnt.SimpleDataPane(\n",
    "    zot_df,\n",
    "    sizing_mode=\"stretch_both\", max_rows=400, max_cols=50)\n",
    "\n",
    "plots[1].link(\n",
    "    plots[0],\n",
    "    selected=\"selected\",\n",
    "    bidirectional=True\n",
    ")\n",
    "\n",
    "data_view.link(\n",
    "    plots[0],\n",
    "    selected=\"selected\",\n",
    "    bidirectional=True\n",
    ")\n",
    "\n",
    "\n",
    "tag_legend = tnt.TagWidget(zot_df[\"Common Tags\"]+ zot_df[\"Hearts\"].fillna(0).apply(lambda x: [(str(x) if x!=0 else \"?\") + \" likeability\"]))\n",
    "tag_legend.link_to_plot(plots[0])\n",
    "\n",
    "app = pn.Tabs(\n",
    "    pn.Row(plots[0],tag_legend, name=\"pac7\"),\n",
    "    pn.Row(plots[1],tag_legend, name=\"pac5\"),\n",
    "    pn.Column(data_view, name=\"data\"))\n",
    "\n",
    "simplesearch = tnt.SimpleSearchWidget(plots[0], raw_dataframe=zot_df_lowercase)\n",
    "\n",
    "app = pn.Column(simplesearch, app)"
   ]
  },
  {
   "cell_type": "code",
   "execution_count": 70,
   "metadata": {},
   "outputs": [
    {
     "name": "stdout",
     "output_type": "stream",
     "text": [
      "Launching server at http://localhost:55210\n"
     ]
    },
    {
     "data": {
      "text/plain": [
       "<panel.io.server.Server at 0x29e3453dc10>"
      ]
     },
     "execution_count": 70,
     "metadata": {},
     "output_type": "execute_result"
    }
   ],
   "source": [
    "pn.serve(app)"
   ]
  }
 ],
 "metadata": {
  "kernelspec": {
   "display_name": "zoteromap",
   "language": "python",
   "name": "python3"
  },
  "language_info": {
   "codemirror_mode": {
    "name": "ipython",
    "version": 3
   },
   "file_extension": ".py",
   "mimetype": "text/x-python",
   "name": "python",
   "nbconvert_exporter": "python",
   "pygments_lexer": "ipython3",
   "version": "3.12.4"
  }
 },
 "nbformat": 4,
 "nbformat_minor": 2
}
